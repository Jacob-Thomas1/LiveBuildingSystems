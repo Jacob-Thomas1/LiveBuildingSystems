{
  "nbformat": 4,
  "nbformat_minor": 0,
  "metadata": {
    "colab": {
      "private_outputs": true,
      "provenance": [],
      "toc_visible": true,
      "include_colab_link": true
    },
    "kernelspec": {
      "name": "python3",
      "display_name": "Python 3"
    },
    "language_info": {
      "name": "python"
    }
  },
  "cells": [
    {
      "cell_type": "markdown",
      "metadata": {
        "id": "view-in-github",
        "colab_type": "text"
      },
      "source": [
        "<a href=\"https://colab.research.google.com/github/Jacob-Thomas1/Jacob/blob/master/LiveBuildingSystemJacob.ipynb\" target=\"_parent\"><img src=\"https://colab.research.google.com/assets/colab-badge.svg\" alt=\"Open In Colab\"/></a>"
      ]
    },
    {
      "cell_type": "markdown",
      "source": [
        "## SQLite Setup"
      ],
      "metadata": {
        "id": "cggXUCsy9eC8"
      }
    },
    {
      "cell_type": "code",
      "source": [
        "import random\n",
        "import sqlite3\n",
        "import datetime\n",
        "import time\n",
        "import json"
      ],
      "metadata": {
        "id": "2dCKJ0-D6bTH"
      },
      "execution_count": null,
      "outputs": []
    },
    {
      "cell_type": "code",
      "source": [
        "import sqlite3\n",
        "conn = sqlite3.connect('database.db')"
      ],
      "metadata": {
        "id": "ELFzZljMgbC1"
      },
      "execution_count": null,
      "outputs": []
    },
    {
      "cell_type": "markdown",
      "source": [
        "## Creat Meters and Meter_data tables"
      ],
      "metadata": {
        "id": "hPLf3rZ39gzb"
      }
    },
    {
      "cell_type": "code",
      "source": [
        "conn.execute('CREATE TABLE meters (id INT, label VARCHAR(35), PRIMARY KEY (id))')\n",
        "print(\"Creating 'meters' Database...\")"
      ],
      "metadata": {
        "id": "mRtLf7Lwu2gh"
      },
      "execution_count": null,
      "outputs": []
    },
    {
      "cell_type": "code",
      "source": [
        "conn.execute('CREATE TABLE meter_data (id INT, meter_id INT, timestamp DATATIME, value INT, PRIMARY KEY (id), FOREIGN KEY(meter_id) REFERENCES meters(id))')\n",
        "print(\"Creating 'meter_data' Database...\")"
      ],
      "metadata": {
        "id": "wbGp0RfYi4U6"
      },
      "execution_count": null,
      "outputs": []
    },
    {
      "cell_type": "markdown",
      "source": [
        "## Adding data to Meter table"
      ],
      "metadata": {
        "id": "Gy62eo1o9nXV"
      }
    },
    {
      "cell_type": "code",
      "source": [
        "def insert_vals_meters(id_p, label_p): \n",
        "  with sqlite3.connect('database.db') as con:\n",
        "            cur = con.cursor()\n",
        "            query = f\"INSERT INTO meters (id, label) VALUES ({id_p},'{label_p}');\"         \n",
        "            cur.execute(query)\n",
        "            print(\"Added\", id_p, \"to DB\")"
      ],
      "metadata": {
        "id": "5k8pYfZt6rA9"
      },
      "execution_count": null,
      "outputs": []
    },
    {
      "cell_type": "code",
      "source": [
        "list_id = []\n",
        "for i in range(0, 5): \n",
        "  id = random.randint(1000,5000)\n",
        "  list_id.append(id)\n",
        "\n",
        "  label = \"meter_\" + chr(97+i)\n",
        "\n",
        "  insert_vals_meters(id, label)"
      ],
      "metadata": {
        "id": "g9QybXBU65h0"
      },
      "execution_count": null,
      "outputs": []
    },
    {
      "cell_type": "markdown",
      "source": [
        "## Select / Executing a Query"
      ],
      "metadata": {
        "id": "fDBwIqvX9vmi"
      }
    },
    {
      "cell_type": "code",
      "source": [
        "def display_query(cur):\n",
        "  l = cur.fetchall()\n",
        "  for ele in l:\n",
        "    print(ele)"
      ],
      "metadata": {
        "id": "8biLbpVg8LEi"
      },
      "execution_count": null,
      "outputs": []
    },
    {
      "cell_type": "code",
      "source": [
        "cur = conn.execute('SELECT * FROM meters')\n",
        "display_query(cur)"
      ],
      "metadata": {
        "id": "sJA6JeKn8NxR"
      },
      "execution_count": null,
      "outputs": []
    },
    {
      "cell_type": "markdown",
      "source": [
        "## Adding data to meter_data table "
      ],
      "metadata": {
        "id": "ZTSAEG05M13S"
      }
    },
    {
      "cell_type": "code",
      "source": [
        "def insert_vals_meter_id(id_p, meter_id, value): \n",
        "  with sqlite3.connect('database.db') as con:\n",
        "            cur = con.cursor()\n",
        "            \n",
        "            curr_time = datetime.datetime.utcnow()\n",
        "            timestamp = curr_time.strftime('%Y-%m-%d %H:%M:%S')\n",
        "\n",
        "            query = f\"INSERT INTO meter_data (id, meter_id, timestamp, value) VALUES ({id_p}, {meter_id}, '{timestamp}', {value});\"         \n",
        "            cur.execute(query)\n",
        "            print(\"Added\", id_p, \"to meter_id DB\")"
      ],
      "metadata": {
        "id": "gFoX8n4EAkRM"
      },
      "execution_count": null,
      "outputs": []
    },
    {
      "cell_type": "code",
      "source": [
        "for i in range(0, 5): \n",
        "\n",
        "  for j in range(0, 5): \n",
        "    id = random.randint(0,1000000000)\n",
        "    insert_vals_meter_id(id, list_id[i], 1000 + j)\n",
        "    time.sleep(5)"
      ],
      "metadata": {
        "id": "UadWLs7QNoxT"
      },
      "execution_count": null,
      "outputs": []
    },
    {
      "cell_type": "code",
      "source": [
        "def display_query(cur):\n",
        "  l = cur.fetchall()\n",
        "  for ele in l:\n",
        "    print(ele)"
      ],
      "metadata": {
        "id": "kX5Fp6DuPKgf"
      },
      "execution_count": null,
      "outputs": []
    },
    {
      "cell_type": "code",
      "source": [
        "cur = conn.execute('SELECT * FROM meter_data')\n",
        "display_query(cur)"
      ],
      "metadata": {
        "id": "ogJGCEx2PMM8"
      },
      "execution_count": null,
      "outputs": []
    },
    {
      "cell_type": "markdown",
      "source": [
        "## Confirmation of join between tables"
      ],
      "metadata": {
        "id": "YjiKIS7fYK3w"
      }
    },
    {
      "cell_type": "code",
      "source": [
        "cur = conn.execute(\"\"\"SELECT m.id, m.label, md.timestamp, md.value\n",
        "                      FROM meters m INNER JOIN meter_data md\n",
        "                      ON m.id = md.meter_id\n",
        "                      WHERE m.id = 1929\n",
        "                      ORDER BY md.timestamp\n",
        "                      \"\"\")\n",
        "display_query(cur)"
      ],
      "metadata": {
        "id": "YrfnSS4eQgnU"
      },
      "execution_count": null,
      "outputs": []
    },
    {
      "cell_type": "markdown",
      "source": [
        "## Setting up Ngrok Server Hosting"
      ],
      "metadata": {
        "id": "z-v9o9fJ9VGB"
      }
    },
    {
      "cell_type": "code",
      "execution_count": null,
      "metadata": {
        "id": "BkOj6mp-pkMF"
      },
      "outputs": [],
      "source": [
        "!pip install pyngrok==4.1.1\n",
        "!pip install flask_ngrok\n",
        "\n",
        "!ngrok authtoken \"ADD YOUR NGROK TOKEN\" "
      ]
    },
    {
      "cell_type": "code",
      "source": [
        "!mkdir templates"
      ],
      "metadata": {
        "id": "5P1GEw4nFaVz"
      },
      "execution_count": null,
      "outputs": []
    },
    {
      "cell_type": "markdown",
      "source": [
        "## Run to Host final app"
      ],
      "metadata": {
        "id": "-ZUlLP8M9bKW"
      }
    },
    {
      "cell_type": "code",
      "source": [],
      "metadata": {
        "id": "2Jq0O-Fwj9L5"
      },
      "execution_count": null,
      "outputs": []
    },
    {
      "cell_type": "code",
      "source": [
        "from flask_ngrok import run_with_ngrok\n",
        "from flask import Flask, render_template\n",
        "from flask import request\n",
        "\n",
        "app = Flask(__name__)\n",
        "run_with_ngrok(app)\n",
        "@app.route('/')\n",
        "def running_server():\n",
        "    return render_template(\"home.html\")\n",
        "\n",
        "@app.route('/meters')\n",
        "def list():\n",
        "   con = sqlite3.connect('database.db')\n",
        "   con.row_factory = sqlite3.Row\n",
        "   \n",
        "   cur = con.cursor()\n",
        "   cur.execute(\"SELECT * FROM meters\")\n",
        "   \n",
        "   rows = []\n",
        "\n",
        "   l = cur.fetchall()\n",
        "\n",
        "   return render_template(\"list.html\",rows = l)\n",
        "\n",
        "@app.route('/meters/<id>')\n",
        "def query(id):\n",
        "\n",
        "   con = sqlite3.connect('database.db')\n",
        "   con.row_factory = sqlite3.Row\n",
        "   \n",
        "   cur = con.cursor()\n",
        "   cur.execute(f\"\"\"SELECT m.id, m.label, md.timestamp, md.value\n",
        "                      FROM meters m INNER JOIN meter_data md\n",
        "                      ON m.id = md.meter_id\n",
        "                      WHERE m.id = {id}\n",
        "                      ORDER BY md.timestamp\"\"\")\n",
        "\n",
        "\n",
        "   rows = cur.fetchall()\n",
        "\n",
        "   \n",
        "   return json.dumps( [dict(row) for row in rows] ) \n",
        "\n",
        "\n",
        "app.run()"
      ],
      "metadata": {
        "id": "DAefM46Dt9HF"
      },
      "execution_count": null,
      "outputs": []
    },
    {
      "cell_type": "code",
      "source": [],
      "metadata": {
        "id": "opAq3RTNIEYZ"
      },
      "execution_count": null,
      "outputs": []
    }
  ]
}